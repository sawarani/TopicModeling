{
 "cells": [
  {
   "attachments": {},
   "cell_type": "markdown",
   "id": "17605b69-0e56-4582-8b7d-6ff91535ed5f",
   "metadata": {},
   "source": [
    "## Guided Latent Dirichlet Allocation"
   ]
  },
  {
   "attachments": {},
   "cell_type": "markdown",
   "id": "dd97c384-7135-4bef-966c-9f0652f437ea",
   "metadata": {},
   "source": [
    "### Import data"
   ]
  },
  {
   "cell_type": "code",
   "execution_count": 1,
   "id": "186eac24-f3b2-47c7-be49-963b49ac81bf",
   "metadata": {},
   "outputs": [],
   "source": [
    "import json\n",
    "\n",
    "with open('preprocessing/data.json', 'r') as f:\n",
    "    documents = json.load(f)\n",
    "    texts = [' '.join([word for word in text]) for text in documents]"
   ]
  },
  {
   "attachments": {},
   "cell_type": "markdown",
   "id": "528fefb3-f109-41e1-ac40-39ebf1e0a199",
   "metadata": {},
   "source": [
    "### Create dictionary and corpus"
   ]
  },
  {
   "cell_type": "code",
   "execution_count": 2,
   "id": "5bcf74db-5ab2-4e62-8bec-3bcee79057fa",
   "metadata": {},
   "outputs": [
    {
     "name": "stdout",
     "output_type": "stream",
     "text": [
      "Number of unique tokens: 43392\n",
      "Number of unique tokens (filtered): 5034\n"
     ]
    }
   ],
   "source": [
    "from gensim import corpora\n",
    "\n",
    "# Map each token to a unique ID\n",
    "dictionary = corpora.Dictionary(documents)\n",
    "print(f'Number of unique tokens: {len(dictionary)}')\n",
    "\n",
    "# Filter out tokens by frequency\n",
    "min_doc, max_doc = 15, .3\n",
    "dictionary.filter_extremes(no_below=min_doc, no_above=max_doc)\n",
    "print(f'Number of unique tokens (filtered): {len(dictionary)}')"
   ]
  },
  {
   "attachments": {},
   "cell_type": "markdown",
   "id": "693a6323-3e3b-4d15-80df-3fd9479e5f40",
   "metadata": {},
   "source": [
    "### Store dictionary items as words in vocabulary"
   ]
  },
  {
   "cell_type": "code",
   "execution_count": 3,
   "id": "9288f93a-4951-4c64-8208-0f88595fef9b",
   "metadata": {},
   "outputs": [],
   "source": [
    "tmp = []\n",
    "\n",
    "for i in range(len(dictionary)):\n",
    "    tmp.append(dictionary.get(i))\n",
    "vocab = tuple(tmp)\n",
    "\n",
    "word2id = dict((v, idx) for idx, v in enumerate(vocab))"
   ]
  },
  {
   "attachments": {},
   "cell_type": "markdown",
   "id": "62d40d8a-1ea4-4cb5-9f10-38d3e90bdbba",
   "metadata": {},
   "source": [
    "### Create a sparse matrix from gensim's BOW document representation"
   ]
  },
  {
   "cell_type": "code",
   "execution_count": 4,
   "id": "31ff5f76-b573-4ef2-9e33-2fc5425f0ab5",
   "metadata": {},
   "outputs": [],
   "source": [
    "import numpy as np\n",
    "from gensim import matutils\n",
    "\n",
    "def bow_iterator(docs, dictionary):\n",
    "    for doc in docs:\n",
    "        yield dictionary.doc2bow(doc)\n",
    "\n",
    "def get_term_matrix(msgs, dictionary):\n",
    "    bow = bow_iterator(msgs, dictionary)\n",
    "    X = np.transpose(matutils.corpus2csc(bow).astype(np.int64))\n",
    "    return X\n",
    "\n",
    "\n",
    "X = get_term_matrix(documents, dictionary)"
   ]
  },
  {
   "attachments": {},
   "cell_type": "markdown",
   "id": "1590d95f-5843-4cb5-a58c-0318b97f307b",
   "metadata": {},
   "source": [
    "### Run the Guided LDA model w/o seed topics"
   ]
  },
  {
   "cell_type": "code",
   "execution_count": 5,
   "id": "3a5e2e0c-3f8c-4d65-ae47-30b3944bde2c",
   "metadata": {
    "tags": []
   },
   "outputs": [
    {
     "name": "stderr",
     "output_type": "stream",
     "text": [
      "INFO:lda:n_documents: 2289\n",
      "INFO:lda:vocab_size: 5034\n",
      "INFO:lda:n_words: 901355\n",
      "INFO:lda:n_topics: 15\n",
      "INFO:lda:n_iter: 300\n",
      "INFO:lda:<0> log likelihood: -9869598\n",
      "INFO:lda:<20> log likelihood: -7025737\n",
      "INFO:lda:<40> log likelihood: -6903803\n",
      "INFO:lda:<60> log likelihood: -6857930\n",
      "INFO:lda:<80> log likelihood: -6831842\n",
      "INFO:lda:<100> log likelihood: -6822835\n",
      "INFO:lda:<120> log likelihood: -6815988\n",
      "INFO:lda:<140> log likelihood: -6809858\n",
      "INFO:lda:<160> log likelihood: -6806122\n",
      "INFO:lda:<180> log likelihood: -6802483\n",
      "INFO:lda:<200> log likelihood: -6799893\n",
      "INFO:lda:<220> log likelihood: -6798088\n",
      "INFO:lda:<240> log likelihood: -6796804\n",
      "INFO:lda:<260> log likelihood: -6796488\n",
      "INFO:lda:<280> log likelihood: -6792839\n",
      "INFO:lda:<299> log likelihood: -6792371\n"
     ]
    },
    {
     "data": {
      "text/plain": [
       "<lda.guidedlda.GuidedLDA at 0x1acc7c17700>"
      ]
     },
     "execution_count": 5,
     "metadata": {},
     "output_type": "execute_result"
    }
   ],
   "source": [
    "from lda import guidedlda as glda\n",
    "\n",
    "n_topics = 15\n",
    "\n",
    "# Train the model\n",
    "glda_model = glda.GuidedLDA(alpha=.1, n_topics=n_topics, n_iter=300, \\\n",
    "                            random_state=7, refresh=20)\n",
    "\n",
    "# Run the model\n",
    "glda_model.fit(X, seed_confidence=0.6)"
   ]
  },
  {
   "attachments": {},
   "cell_type": "markdown",
   "id": "dfcb18c5-c8bb-4475-bf55-f799364a8085",
   "metadata": {},
   "source": [
    "### Print the results"
   ]
  },
  {
   "cell_type": "code",
   "execution_count": 6,
   "id": "b5a6f06a-27b9-4042-9b1f-2f7ec7118a7d",
   "metadata": {},
   "outputs": [
    {
     "name": "stdout",
     "output_type": "stream",
     "text": [
      "Topic 0: бактерия белок днк геном вирус последовательность эукариот гриб фермент белка клеточный штамм бактериальный митохондрия паразит\n",
      "\n",
      "Topic 1: галактика звезда масса чёрный_дыра излучение вселенная планета наблюдение космический солнечный солнце гравитационный телескоп объект спектр\n",
      "\n",
      "Topic 2: рыба динозавр млекопитающее кость находка остаток ископаемое палеонтолог зуб древний хищник морской представитель скелет строение\n",
      "\n",
      "Topic 3: белок мышь опухоль ткань экспрессия рак рецептор заболевание кровь днк клеточный активность нормальный иммунный раковый\n",
      "\n",
      "Topic 4: эволюционный предок нервный позвоночный червь многоклеточный личинка стадия ветвь губка экспрессия билатерия происхождение эмбрион древний\n",
      "\n",
      "Topic 5: мутация популяция отбор генетический геном эволюционный хромосома линия вариант аллель приспособленность полезный поколение половой частота\n",
      "\n",
      "Topic 6: поле волна квантовый теория электрон атом свет скорость температура движение сила магнитный_поле энергия излучение частота\n",
      "\n",
      "Topic 7: растение птица насекомое муравей окраска сообщество хищник лес разнообразие остров популяция численность дерево лист бабочка\n",
      "\n",
      "Topic 8: мозг нейрон сигнал поведение песня обучение способность кора память мышь активность глаз социальный птица звук\n",
      "\n",
      "Topic 9: вода порода земля поверхность атмосфера температура слой океан мантия кислород глубина планета зона кора земной\n",
      "\n",
      "Topic 10: неандерталец древний геном сапиенс предок орудие кость популяция культура шимпанзе возраст днк человеческий пещера неандертальский\n",
      "\n",
      "Topic 11: молекула реакция химический вода соединение поверхность раствор материал энергия органический ион синтез кислота концентрация свойство\n",
      "\n",
      "Topic 12: самец самка особь муха поведение пол яйцо половой потомство партнёр отбор социальный спаривание колония репродуктивный\n",
      "\n",
      "Topic 13: частица энергия физика нейтрино ядро детектор протон масса распад коллайдер стандартный измерение коллаборация нейтрон электрон\n",
      "\n",
      "Topic 14: оценка решение научный век мир наука проблема рост страна ситуация задача степень информация показатель вероятность\n",
      "\n"
     ]
    }
   ],
   "source": [
    "n_top_words = 15\n",
    "topic_word = glda_model.topic_word_\n",
    "\n",
    "for i, topic_dist in enumerate(topic_word):\n",
    "    topic_words = np.array(vocab)[np.argsort(topic_dist)][:-(n_top_words+1):-1]\n",
    "    print(f\"Topic {i}: {' '.join(topic_words)}\\n\")"
   ]
  },
  {
   "attachments": {},
   "cell_type": "markdown",
   "id": "fc751899-c41b-4ede-a436-a8534c2cf495",
   "metadata": {},
   "source": [
    "### Run the model with seed topics"
   ]
  },
  {
   "cell_type": "code",
   "execution_count": 7,
   "id": "a53926be-66ac-46f2-b03f-4a38ef99b377",
   "metadata": {},
   "outputs": [],
   "source": [
    "seed_topic_list = [\n",
    "    ['сапиенс', 'пещера', 'неандерталец', 'находка', 'кость'],\n",
    "    ['галактика', 'чёрный_дыра', 'вселенная', 'космический'],\n",
    "    ['опухоль', 'рак', 'метастаз', 'раковый', 'мутация'],\n",
    "    ['коллайдер', 'распад', 'детектор', 'бозон_хиггс', 'кварк'],\n",
    "    ['атмосфера', 'содержание', 'климат', 'концентрация'],\n",
    "    ['нейрон', 'мозг', 'рецептор', 'сигнал', 'нервный']\n",
    "]"
   ]
  },
  {
   "cell_type": "code",
   "execution_count": 8,
   "id": "b46dbc0e-12bd-417a-b81e-0e1b220f91e6",
   "metadata": {
    "tags": []
   },
   "outputs": [
    {
     "name": "stderr",
     "output_type": "stream",
     "text": [
      "INFO:lda:n_documents: 2289\n",
      "INFO:lda:vocab_size: 5034\n",
      "INFO:lda:n_words: 901355\n",
      "INFO:lda:n_topics: 15\n",
      "INFO:lda:n_iter: 300\n",
      "INFO:lda:<0> log likelihood: -9866300\n",
      "INFO:lda:<20> log likelihood: -6948117\n",
      "INFO:lda:<40> log likelihood: -6871008\n",
      "INFO:lda:<60> log likelihood: -6845928\n",
      "INFO:lda:<80> log likelihood: -6831028\n",
      "INFO:lda:<100> log likelihood: -6825812\n",
      "INFO:lda:<120> log likelihood: -6822201\n",
      "INFO:lda:<140> log likelihood: -6819377\n",
      "INFO:lda:<160> log likelihood: -6817914\n",
      "INFO:lda:<180> log likelihood: -6813547\n",
      "INFO:lda:<200> log likelihood: -6807150\n",
      "INFO:lda:<220> log likelihood: -6804433\n",
      "INFO:lda:<240> log likelihood: -6801661\n",
      "INFO:lda:<260> log likelihood: -6799339\n",
      "INFO:lda:<280> log likelihood: -6798027\n",
      "INFO:lda:<299> log likelihood: -6799206\n"
     ]
    },
    {
     "data": {
      "text/plain": [
       "<lda.guidedlda.GuidedLDA at 0x1acc7c17700>"
      ]
     },
     "execution_count": 8,
     "metadata": {},
     "output_type": "execute_result"
    }
   ],
   "source": [
    "seed_topics = {}\n",
    "\n",
    "for t_id, st in enumerate(seed_topic_list):\n",
    "    for word in st:\n",
    "        seed_topics[word2id[word]] = t_id\n",
    "\n",
    "# Run the model\n",
    "glda_model.fit(X, seed_topics=seed_topics, seed_confidence=0.15)"
   ]
  },
  {
   "attachments": {},
   "cell_type": "markdown",
   "id": "328ce29a-98ee-4250-9d48-4f247933b9c5",
   "metadata": {},
   "source": [
    "### Print the results"
   ]
  },
  {
   "cell_type": "code",
   "execution_count": 9,
   "id": "f0995699-2b42-44c9-8944-a0243d4e5e2c",
   "metadata": {},
   "outputs": [
    {
     "name": "stdout",
     "output_type": "stream",
     "text": [
      "Topic 0: неандерталец древний геном сапиенс предок орудие шимпанзе кость человеческий возраст культура днк пещера популяция неандертальский\n",
      "\n",
      "Topic 1: галактика звезда масса излучение чёрный_дыра вселенная волна гравитационный космический наблюдение скорость солнечный планета объект солнце\n",
      "\n",
      "Topic 2: белок днк мышь опухоль вирус ткань белка рак экспрессия заболевание клеточный мутация иммунный молекула рецептор\n",
      "\n",
      "Topic 3: частица энергия физика электрон квантовый теория нейтрино поле измерение детектор ядро масса протон фотон распад\n",
      "\n",
      "Topic 4: вода температура вымирание морской климат рост остров район лес численность содержание сообщество территория скорость океан\n",
      "\n",
      "Topic 5: мозг нейрон сигнал поведение мышь нервный рецептор активность кора память глаз информация способность стимул действие\n",
      "\n",
      "Topic 6: бактерия геном эукариот белок днк последовательность фермент гриб водоросль митохондрия бактериальный архея штамм клеточный мембрана\n",
      "\n",
      "Topic 7: популяция мутация отбор генетический геном эволюционный хромосома линия вариант аллель приспособленность половой полезный поколение частота\n",
      "\n",
      "Topic 8: рыба динозавр кость млекопитающее находка остаток хищник птица древний ископаемое зуб палеонтолог представитель строение скелет\n",
      "\n",
      "Topic 9: оценка ребёнок решение научный возраст задача рост степень страна наука теория ситуация проблема показатель язык\n",
      "\n",
      "Topic 10: эволюционный позвоночный предок червь нервный стадия губка ветвь личинка экспрессия эмбрион многоклеточный билатерия конечность происхождение\n",
      "\n",
      "Topic 11: молекула реакция температура химический материал поверхность атом вода свойство ион энергия соединение среда концентрация жидкость\n",
      "\n",
      "Topic 12: самец самка птица особь песня пол поведение половой потомство яйцо отбор партнёр популяция социальный гнездо\n",
      "\n",
      "Topic 13: порода земля поверхность мантия слой атмосфера планета вода кора земной зона кислород образование кратер глубина\n",
      "\n",
      "Topic 14: растение насекомое муравей муха паразит окраска хозяин личинка лист крыло дерево бабочка цветок пчела цвет\n",
      "\n"
     ]
    }
   ],
   "source": [
    "topic_word = glda_model.topic_word_\n",
    "\n",
    "for i, topic_dist in enumerate(topic_word):\n",
    "    topic_words = np.array(vocab)[np.argsort(topic_dist)][:-(n_top_words+1):-1]\n",
    "    print(f\"Topic {i}: {' '.join(topic_words)}\\n\")"
   ]
  }
 ],
 "metadata": {
  "kernelspec": {
   "display_name": "Python 3.9.2 64-bit",
   "language": "python",
   "name": "python3"
  },
  "language_info": {
   "codemirror_mode": {
    "name": "ipython",
    "version": 3
   },
   "file_extension": ".py",
   "mimetype": "text/x-python",
   "name": "python",
   "nbconvert_exporter": "python",
   "pygments_lexer": "ipython3",
   "version": "3.9.2"
  },
  "vscode": {
   "interpreter": {
    "hash": "a72475a4e957f639a8707c38a651116e9f027e6c6985c08c8cef46a94d0a95f5"
   }
  }
 },
 "nbformat": 4,
 "nbformat_minor": 5
}
