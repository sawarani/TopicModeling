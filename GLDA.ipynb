{
 "cells": [
  {
   "cell_type": "code",
   "execution_count": 1,
   "id": "186eac24-f3b2-47c7-be49-963b49ac81bf",
   "metadata": {},
   "outputs": [],
   "source": [
    "import json\n",
    "\n",
    "with open('nouns_adj.json', 'r') as f:\n",
    "    documents = json.load(f)"
   ]
  },
  {
   "cell_type": "code",
   "execution_count": 2,
   "id": "7f222dde-36d2-47b2-b3dd-bd06b6c6b297",
   "metadata": {},
   "outputs": [],
   "source": [
    "import numpy as np\n",
    "from gensim import matutils\n",
    "\n",
    "def bow_iterator(docs, dictionary):\n",
    "    for doc in docs:\n",
    "        yield dictionary.doc2bow(doc)\n",
    "\n",
    "def get_term_matrix(msgs, dictionary):\n",
    "    bow = bow_iterator(msgs, dictionary)\n",
    "    X = np.transpose(matutils.corpus2csc(bow).astype(np.int64))\n",
    "    return X"
   ]
  },
  {
   "cell_type": "markdown",
   "id": "528fefb3-f109-41e1-ac40-39ebf1e0a199",
   "metadata": {},
   "source": [
    "### Filter out tokens by frequency"
   ]
  },
  {
   "cell_type": "code",
   "execution_count": 3,
   "id": "5bcf74db-5ab2-4e62-8bec-3bcee79057fa",
   "metadata": {},
   "outputs": [
    {
     "name": "stdout",
     "output_type": "stream",
     "text": [
      "Number of unique tokens: 30281\n",
      "Number of unique tokens (filtered): 3346\n"
     ]
    }
   ],
   "source": [
    "from gensim import corpora\n",
    "\n",
    "# Map each token to a unique ID\n",
    "dictionary = corpora.Dictionary(documents)\n",
    "print(f'Number of unique tokens: {len(dictionary)}')\n",
    "\n",
    "# Filter out words that occur in more than 30% of the documents\n",
    "min_doc, max_doc = 15, .3\n",
    "dictionary.filter_extremes(no_below=min_doc, no_above=max_doc)\n",
    "print(f'Number of unique tokens (filtered): {len(dictionary)}')"
   ]
  },
  {
   "cell_type": "code",
   "execution_count": 4,
   "id": "9288f93a-4951-4c64-8208-0f88595fef9b",
   "metadata": {},
   "outputs": [],
   "source": [
    "# Store dictionary items as words in vocab\n",
    "tmp = []\n",
    "for i in range(len(dictionary)):\n",
    "    tmp.append(dictionary.get(i))\n",
    "vocab = tuple(tmp)\n",
    "\n",
    "word2id = dict((v, idx) for idx, v in enumerate(vocab))"
   ]
  },
  {
   "cell_type": "code",
   "execution_count": 5,
   "id": "8c0ece92-d5e1-422c-b842-3f8e58bbb3a7",
   "metadata": {},
   "outputs": [],
   "source": [
    "# Create a sparse matrix from gensim's bow document representation\n",
    "X = get_term_matrix(documents, dictionary)"
   ]
  },
  {
   "cell_type": "markdown",
   "id": "1590d95f-5843-4cb5-a58c-0318b97f307b",
   "metadata": {},
   "source": [
    "### Build a Guided LDA model w/o seed topics"
   ]
  },
  {
   "cell_type": "code",
   "execution_count": 6,
   "id": "3a5e2e0c-3f8c-4d65-ae47-30b3944bde2c",
   "metadata": {
    "tags": []
   },
   "outputs": [
    {
     "name": "stderr",
     "output_type": "stream",
     "text": [
      "INFO:lda:n_documents: 1260\n",
      "INFO:lda:vocab_size: 3346\n",
      "INFO:lda:n_words: 409615\n",
      "INFO:lda:n_topics: 15\n",
      "INFO:lda:n_iter: 300\n",
      "INFO:lda:<0> log likelihood: -4448624\n",
      "INFO:lda:<20> log likelihood: -3104520\n",
      "INFO:lda:<40> log likelihood: -3055555\n",
      "INFO:lda:<60> log likelihood: -3038425\n",
      "INFO:lda:<80> log likelihood: -3028541\n",
      "INFO:lda:<100> log likelihood: -3023128\n",
      "INFO:lda:<120> log likelihood: -3017305\n",
      "INFO:lda:<140> log likelihood: -3013047\n",
      "INFO:lda:<160> log likelihood: -3011456\n",
      "INFO:lda:<180> log likelihood: -3009448\n",
      "INFO:lda:<200> log likelihood: -3007417\n",
      "INFO:lda:<220> log likelihood: -3008095\n",
      "INFO:lda:<240> log likelihood: -3006962\n",
      "INFO:lda:<260> log likelihood: -3006861\n",
      "INFO:lda:<280> log likelihood: -3006296\n",
      "INFO:lda:<299> log likelihood: -3007284\n"
     ]
    },
    {
     "data": {
      "text/plain": [
       "<lda.guidedlda.GuidedLDA at 0x251f7b98a30>"
      ]
     },
     "execution_count": 6,
     "metadata": {},
     "output_type": "execute_result"
    }
   ],
   "source": [
    "from lda import guidedlda as glda\n",
    "\n",
    "n_topics = 15\n",
    "\n",
    "# Train a Guided LDA model\n",
    "glda_model = glda.GuidedLDA(alpha=.1, n_topics=n_topics, n_iter=300, \\\n",
    "                            random_state=7, refresh=20)\n",
    "\n",
    "# Run the model\n",
    "glda_model.fit(X, seed_confidence=0.6)"
   ]
  },
  {
   "cell_type": "markdown",
   "id": "dfcb18c5-c8bb-4475-bf55-f799364a8085",
   "metadata": {},
   "source": [
    "### Print the results"
   ]
  },
  {
   "cell_type": "code",
   "execution_count": 7,
   "id": "b5a6f06a-27b9-4042-9b1f-2f7ec7118a7d",
   "metadata": {},
   "outputs": [
    {
     "name": "stdout",
     "output_type": "stream",
     "text": [
      "Topic 0: электрон атом поле температура магнитный_поле квантовый энергия частота сверхпроводник сверхпроводимость сила магнитный величина излучение взаимодействие\n",
      "\n",
      "Topic 1: самец самка особь поведение популяция отбор половой окраска признак потомство яйцо колония муха генетический пара\n",
      "\n",
      "Topic 2: мозг нейрон мышь сигнал рецептор поведение запах реакция действие звук тело память млекопитающее частота культура\n",
      "\n",
      "Topic 3: теория научный наука проект решение открытие задача журнал история полный профессор коллега публикация слово век\n",
      "\n",
      "Topic 4: молекула химический реакция соединение материал водород свойство синтез бактерия вода атом температура графен молекулярный ион\n",
      "\n",
      "Topic 5: ген белок мутация днк геном опухоль экспрессия ткань мышь участок рак вирус бактерия белка фермент\n",
      "\n",
      "Topic 6: порода зона состав образование слой мантия железо глубина период возраст минерал планета материал граница древний\n",
      "\n",
      "Topic 7: свет объект изображение направление длина внутренний расстояние отдельный глаз информация кольцо точность движение участок цвет\n",
      "\n",
      "Topic 8: луна затмение полный фаза планета аппарат солнце астероид орбита наблюдение спутник солнечный высота комета космический\n",
      "\n",
      "Topic 9: частица энергия ядро физика нейтрино детектор измерение протон масса распад коллаборация событие материя коллайдер нейтрон\n",
      "\n",
      "Topic 10: ген тело позвоночный эукариот эволюционный губка происхождение предок ветвь общий_предок древний личинка многоклеточный_животное признак стадия\n",
      "\n",
      "Topic 11: древний геном кость возраст находка слой признак предок след рыба поздний сапиенс зуб неандерталец ископаемое\n",
      "\n",
      "Topic 12: звезда масса галактика чёрный_дыра вселенная излучение солнечный наблюдение космический астроном солнце звёздный спектр дыра телескоп\n",
      "\n",
      "Topic 13: растение птица популяция рост хищник численность разнообразие сообщество быстрый территория насекомое вымирание дерево лист мелкий\n",
      "\n",
      "Topic 14: вода температура атмосфера океан кислород морской содержание период углерод рост лёд рыба климат концентрация озеро\n",
      "\n"
     ]
    }
   ],
   "source": [
    "n_top_words = 15\n",
    "topic_word = glda_model.topic_word_\n",
    "\n",
    "for i, topic_dist in enumerate(topic_word):\n",
    "    topic_words = np.array(vocab)[np.argsort(topic_dist)][:-(n_top_words+1):-1]\n",
    "    print(f\"Topic {i}: {' '.join(topic_words)}\\n\")"
   ]
  },
  {
   "cell_type": "markdown",
   "id": "fc751899-c41b-4ede-a436-a8534c2cf495",
   "metadata": {},
   "source": [
    "### Build a model with seed topics"
   ]
  },
  {
   "cell_type": "code",
   "execution_count": 10,
   "id": "a53926be-66ac-46f2-b03f-4a38ef99b377",
   "metadata": {},
   "outputs": [],
   "source": [
    "seed_topic_list = [['сапиенс', 'пещера', 'неандерталец', 'находка', 'кость'],\n",
    "                   ['галактика', 'чёрный_дыра', 'вселенная', 'космический'],\n",
    "                   ['опухоль', 'рак', 'метастаз', 'раковый', 'мутация'],\n",
    "                   ['коллайдер', 'распад', 'детектор', 'бозон_хиггс', 'кварк'],\n",
    "                   ['атмосфера', 'содержание', 'климат', 'концентрация'],\n",
    "                   ['нейрон', 'мозг', 'рецептор', 'сигнал', 'нервный']]"
   ]
  },
  {
   "cell_type": "code",
   "execution_count": 11,
   "id": "b46dbc0e-12bd-417a-b81e-0e1b220f91e6",
   "metadata": {
    "tags": []
   },
   "outputs": [
    {
     "name": "stderr",
     "output_type": "stream",
     "text": [
      "INFO:lda:n_documents: 1260\n",
      "INFO:lda:vocab_size: 3346\n",
      "INFO:lda:n_words: 409615\n",
      "INFO:lda:n_topics: 15\n",
      "INFO:lda:n_iter: 300\n",
      "INFO:lda:<0> log likelihood: -4447106\n",
      "INFO:lda:<20> log likelihood: -3095018\n",
      "INFO:lda:<40> log likelihood: -3049578\n",
      "INFO:lda:<60> log likelihood: -3036288\n",
      "INFO:lda:<80> log likelihood: -3030521\n",
      "INFO:lda:<100> log likelihood: -3025782\n",
      "INFO:lda:<120> log likelihood: -3022618\n",
      "INFO:lda:<140> log likelihood: -3021741\n",
      "INFO:lda:<160> log likelihood: -3020174\n",
      "INFO:lda:<180> log likelihood: -3018076\n",
      "INFO:lda:<200> log likelihood: -3016947\n",
      "INFO:lda:<220> log likelihood: -3015505\n",
      "INFO:lda:<240> log likelihood: -3015523\n",
      "INFO:lda:<260> log likelihood: -3015176\n",
      "INFO:lda:<280> log likelihood: -3013404\n",
      "INFO:lda:<299> log likelihood: -3013434\n"
     ]
    },
    {
     "data": {
      "text/plain": [
       "<lda.guidedlda.GuidedLDA at 0x251f7b98a30>"
      ]
     },
     "execution_count": 11,
     "metadata": {},
     "output_type": "execute_result"
    }
   ],
   "source": [
    "seed_topics = {}\n",
    "\n",
    "for t_id, st in enumerate(seed_topic_list):\n",
    "    for word in st:\n",
    "        seed_topics[word2id[word]] = t_id\n",
    "\n",
    "# Run the model with seed topics\n",
    "glda_model.fit(X, seed_topics=seed_topics, seed_confidence=0.15)"
   ]
  },
  {
   "cell_type": "markdown",
   "id": "328ce29a-98ee-4250-9d48-4f247933b9c5",
   "metadata": {},
   "source": [
    "### Print the results"
   ]
  },
  {
   "cell_type": "code",
   "execution_count": 12,
   "id": "f0995699-2b42-44c9-8944-a0243d4e5e2c",
   "metadata": {},
   "outputs": [
    {
     "name": "stdout",
     "output_type": "stream",
     "text": [
      "Topic 0: древний возраст кость геном слой находка поздний след популяция днк сапиенс неандерталец зуб признак генетический\n",
      "\n",
      "Topic 1: звезда масса галактика чёрный_дыра вселенная излучение солнечный космический наблюдение астроном солнце звёздный спектр ядро дыра\n",
      "\n",
      "Topic 2: белок ген днк опухоль мутация мышь ткань рак участок вирус бактерия геном фермент белка рецептор\n",
      "\n",
      "Topic 3: частица энергия физика ядро электрон нейтрино детектор протон измерение масса распад коллаборация событие коллайдер нейтрон\n",
      "\n",
      "Topic 4: вода температура атмосфера океан период порода содержание слой кислород глубина морской углерод состав зона лёд\n",
      "\n",
      "Topic 5: самец самка поведение мозг нейрон сигнал особь половой муха запах потомство отбор частота популяция различие\n",
      "\n",
      "Topic 6: сверхпроводник сверхпроводимость магнитный_поле мантия температура сверхпроводящий магнитный ядро зона материал вихрь образование критический_температура плёнка поле\n",
      "\n",
      "Topic 7: молекула химический реакция вода атом водород синтез свойство соединение ион материал молекулярный концентрация электрон температура\n",
      "\n",
      "Topic 8: луна затмение полный фаза аппарат солнце астероид свет солнечный планета орбита наблюдение спутник высота тёмный\n",
      "\n",
      "Topic 9: теория открытие наука научный физика поле профессор поздний уравнение физический эйнштейн масса история решение коллега\n",
      "\n",
      "Topic 10: ген геном позвоночный тело экспрессия генетический эволюционный признак функция мышца орган конечность hox-ген насекомое крыло\n",
      "\n",
      "Topic 11: эукариот губка происхождение ветвь древний предок многоклеточный_животное митохондрия личинка нервный_система общий_предок эволюционный членистоногий гребневик морской\n",
      "\n",
      "Topic 12: рост быстрый вероятность информация задача слово оценка зависимость мера фактор средний целое дальнейший параметр среднее\n",
      "\n",
      "Topic 13: растение птица популяция рыба хищник численность сообщество насекомое дерево лист особь разнообразие пища мелкий муравей\n",
      "\n",
      "Topic 14: свет квантовый атом энергия движение частота температура волна объект сила поле излучение порядок колебание свойство\n",
      "\n"
     ]
    }
   ],
   "source": [
    "topic_word = glda_model.topic_word_\n",
    "for i, topic_dist in enumerate(topic_word):\n",
    "    topic_words = np.array(vocab)[np.argsort(topic_dist)][:-(n_top_words+1):-1]\n",
    "    print(f\"Topic {i}: {' '.join(topic_words)}\\n\")"
   ]
  },
  {
   "cell_type": "code",
   "execution_count": null,
   "id": "4b27a631-9a94-432d-b57e-a7ddddc2d87c",
   "metadata": {},
   "outputs": [],
   "source": []
  }
 ],
 "metadata": {
  "kernelspec": {
   "display_name": "Python 3",
   "language": "python",
   "name": "python3"
  },
  "language_info": {
   "codemirror_mode": {
    "name": "ipython",
    "version": 3
   },
   "file_extension": ".py",
   "mimetype": "text/x-python",
   "name": "python",
   "nbconvert_exporter": "python",
   "pygments_lexer": "ipython3",
   "version": "3.9.2"
  }
 },
 "nbformat": 4,
 "nbformat_minor": 5
}
