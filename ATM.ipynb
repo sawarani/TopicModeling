{
 "cells": [
  {
   "cell_type": "markdown",
   "id": "b0431a0b-54c2-49af-a5e0-9aea45808f74",
   "metadata": {},
   "source": [
    "## Author-Topic Model"
   ]
  },
  {
   "cell_type": "markdown",
   "id": "fc243a47-c55b-453e-af05-a1afb60aaa67",
   "metadata": {},
   "source": [
    "### Import data"
   ]
  },
  {
   "cell_type": "code",
   "execution_count": 1,
   "id": "a91a8072-afdf-4668-941e-d16875f98137",
   "metadata": {
    "tags": []
   },
   "outputs": [],
   "source": [
    "import os\n",
    "import json\n",
    "from gensim.test.utils import datapath\n",
    "\n",
    "tmp = datapath(os.getcwd() + '\\\\tmp\\\\model.atmodel')\n",
    "dirpath = os.getcwd() + '\\\\corpus\\\\'\n",
    "\n",
    "with open('nouns_adj.json', 'r') as f:\n",
    "    documents = json.load(f)"
   ]
  },
  {
   "cell_type": "markdown",
   "id": "cb916f4a-86a7-4c58-acfe-858bffa6da79",
   "metadata": {},
   "source": [
    "### Assign unique author id to each text"
   ]
  },
  {
   "cell_type": "code",
   "execution_count": 2,
   "id": "46ac6461-b966-428a-b052-b5bcf9e00b75",
   "metadata": {},
   "outputs": [],
   "source": [
    "authors, chunks = [], []\n",
    "\n",
    "for file in os.listdir(dirpath):\n",
    "    if file.startswith('__'):\n",
    "        with open(dirpath+file, 'r') as f:\n",
    "            js = json.load(f)\n",
    "            authors.append(js['Author'][0]['Author'].replace(' ', '_'))\n",
    "            chunks.append(len(js['Author'])) # number of texts for each author\n",
    "\n",
    "chunks = [n if n < 100 else 100 for n in chunks] # keep 150 texts max for each author\n",
    "\n",
    "author2doc = dict()\n",
    "\n",
    "n = 0\n",
    "for author, i in zip(authors, chunks):\n",
    "    n += i\n",
    "    author2doc[author] = list(range((n)-i, (n)))"
   ]
  },
  {
   "cell_type": "markdown",
   "id": "0d8fc749-6967-4cf8-a7d3-10bf3649ca0f",
   "metadata": {},
   "source": [
    "### Create dictionary and corpus"
   ]
  },
  {
   "cell_type": "code",
   "execution_count": 3,
   "id": "57d12758-f54e-44e2-90e8-09e2c21cc179",
   "metadata": {},
   "outputs": [
    {
     "name": "stdout",
     "output_type": "stream",
     "text": [
      "Number of unique tokens: 30281\n",
      "Number of unique tokens (filtered): 3231\n",
      "Number of documents: 1260\n",
      "Number of authors: 17\n"
     ]
    }
   ],
   "source": [
    "from gensim import corpora\n",
    "\n",
    "# Map each token to a unique ID\n",
    "dictionary = corpora.Dictionary(documents)\n",
    "print(f'Number of unique tokens: {len(dictionary)}')\n",
    "\n",
    "# Filter out tokens by frequency\n",
    "min_doc, max_doc = 15, .2\n",
    "dictionary.filter_extremes(no_below=min_doc, no_above=max_doc)\n",
    "print(f'Number of unique tokens (filtered): {len(dictionary)}')\n",
    "\n",
    "# Create a BOW corpus\n",
    "corpus = [dictionary.doc2bow(doc) for doc in documents]\n",
    "\n",
    "print(f'Number of documents: {len(corpus)}')\n",
    "print(f'Number of authors: {len(author2doc)}')"
   ]
  },
  {
   "cell_type": "markdown",
   "id": "9c7f73c5-9ccf-40d3-b709-59212c1d394b",
   "metadata": {},
   "source": [
    "### Run the Author-Topic model"
   ]
  },
  {
   "cell_type": "code",
   "execution_count": 4,
   "id": "cba44815-6f68-40d3-bc74-e426323c8037",
   "metadata": {},
   "outputs": [],
   "source": [
    "from gensim.models import AuthorTopicModel\n",
    "\n",
    "# Set training parameters for ATM\n",
    "num_topics = 12\n",
    "random_state = 100\n",
    "chunksize = len(corpus)\n",
    "passes = 150\n",
    "alpha = .9099999999999999\n",
    "eta = .21\n",
    "iterations = 100\n",
    "eval_every = 1"
   ]
  },
  {
   "cell_type": "code",
   "execution_count": 20,
   "id": "01af5f82-bb98-4fcd-8840-68dcfbda3d7c",
   "metadata": {
    "tags": []
   },
   "outputs": [],
   "source": [
    "at_model = AuthorTopicModel(corpus=corpus, num_topics=num_topics, id2word=dictionary, \\\n",
    "                            author2doc=author2doc, chunksize=chunksize, passes=passes, \\\n",
    "                            gamma_threshold=1e-10, eval_every=eval_every, \\\n",
    "                            iterations=iterations, random_state=i, \\\n",
    "                            alpha=alpha, eta=eta, minimum_probability=0.01)"
   ]
  },
  {
   "cell_type": "code",
   "execution_count": 30,
   "id": "089ba174-0387-4797-ab3a-34ef08656a61",
   "metadata": {
    "tags": []
   },
   "outputs": [],
   "source": [
    "# Save the model\n",
    "at_model.save(tmp)"
   ]
  },
  {
   "cell_type": "code",
   "execution_count": 5,
   "id": "984ec492-3bcb-427f-8876-4e7ae34cad1b",
   "metadata": {
    "tags": []
   },
   "outputs": [],
   "source": [
    "# Load the model\n",
    "at_model = AuthorTopicModel.load(tmp)"
   ]
  },
  {
   "cell_type": "markdown",
   "id": "17f9b61b-a12b-4b8c-9527-60a2dd28164a",
   "metadata": {},
   "source": [
    "### Print the results"
   ]
  },
  {
   "cell_type": "code",
   "execution_count": 6,
   "id": "2f0ad345-c290-49a9-87fe-25451b446f59",
   "metadata": {
    "tags": []
   },
   "outputs": [
    {
     "name": "stdout",
     "output_type": "stream",
     "text": [
      "[(0,\n",
      "  '0.019*\"нейтрино\" + 0.012*\"частота\" + 0.012*\"измерение\" + 0.012*\"детектор\" + '\n",
      "  '0.010*\"излучение\" + 0.009*\"распад\" + 0.009*\"ядро\" + 0.008*\"событие\" + '\n",
      "  '0.008*\"гравитационный_волна\" + 0.008*\"вселенная\" + 0.007*\"поток\" + '\n",
      "  '0.007*\"сигнал\" + 0.007*\"нейтрон\" + 0.007*\"электрон\" + 0.007*\"фотон\"'),\n",
      " (1,\n",
      "  '0.017*\"порода\" + 0.011*\"атмосфера\" + 0.011*\"зона\" + 0.009*\"океан\" + '\n",
      "  '0.009*\"глубина\" + 0.008*\"мантия\" + 0.007*\"кислород\" + 0.007*\"железо\" + '\n",
      "  '0.007*\"содержание\" + 0.007*\"планета\" + 0.007*\"морской\" + 0.006*\"минерал\" + '\n",
      "  '0.006*\"граница\" + 0.006*\"углерод\" + 0.005*\"отложение\"'),\n",
      " (2,\n",
      "  '0.021*\"звезда\" + 0.009*\"ядро\" + 0.009*\"чёрный_дыра\" + 0.009*\"галактика\" + '\n",
      "  '0.009*\"вселенная\" + 0.008*\"солнечный\" + 0.007*\"солнце\" + '\n",
      "  '0.007*\"космический\" + 0.006*\"звёздный\" + 0.006*\"дыра\" + 0.006*\"астроном\" + '\n",
      "  '0.006*\"излучение\" + 0.006*\"физика\" + 0.006*\"белый_карлик\" + 0.005*\"поле\"'),\n",
      " (3,\n",
      "  '0.013*\"мышь\" + 0.010*\"рецептор\" + 0.010*\"нейрон\" + 0.009*\"днк\" + '\n",
      "  '0.008*\"растение\" + 0.008*\"мозг\" + 0.007*\"реакция\" + 0.005*\"бактерия\" + '\n",
      "  '0.005*\"глаз\" + 0.005*\"ядро\" + 0.005*\"белка\" + 0.004*\"ткань\" + '\n",
      "  '0.004*\"комплекс\" + 0.004*\"мембрана\" + 0.004*\"клеточный\"'),\n",
      " (4,\n",
      "  '0.045*\"опухоль\" + 0.025*\"рак\" + 0.022*\"мутация\" + 0.018*\"мышь\" + '\n",
      "  '0.013*\"метастаз\" + 0.013*\"ткань\" + 0.013*\"раковый\" + 0.011*\"днк\" + '\n",
      "  '0.010*\"экспрессия\" + 0.010*\"нормальный\" + 0.009*\"терапия\" + 0.009*\"пациент\" '\n",
      "  '+ 0.008*\"стволовой_клетка\" + 0.007*\"раковый_опухоль\" + 0.007*\"лечение\"'),\n",
      " (5,\n",
      "  '0.017*\"растение\" + 0.015*\"птица\" + 0.009*\"численность\" + 0.009*\"популяция\" '\n",
      "  '+ 0.006*\"содержание\" + 0.006*\"атмосфера\" + 0.006*\"особь\" + 0.005*\"дерево\" + '\n",
      "  '0.005*\"страна\" + 0.005*\"район\" + 0.005*\"океан\" + 0.005*\"сообщество\" + '\n",
      "  '0.005*\"лес\" + 0.005*\"хищник\" + 0.005*\"углерод\"'),\n",
      " (6,\n",
      "  '0.019*\"самец\" + 0.018*\"самка\" + 0.009*\"популяция\" + 0.006*\"насекомое\" + '\n",
      "  '0.006*\"геном\" + 0.006*\"особь\" + 0.006*\"отбор\" + 0.006*\"птица\" + '\n",
      "  '0.006*\"генетический\" + 0.005*\"сигнал\" + 0.005*\"мозг\" + 0.004*\"эволюционный\" '\n",
      "  '+ 0.004*\"мутация\" + 0.004*\"рыба\" + 0.004*\"частота\"'),\n",
      " (7,\n",
      "  '0.022*\"физика\" + 0.011*\"протон\" + 0.011*\"измерение\" + 0.011*\"электрон\" + '\n",
      "  '0.011*\"квантовый\" + 0.011*\"атом\" + 0.010*\"детектор\" + 0.009*\"коллайдер\" + '\n",
      "  '0.009*\"коллаборация\" + 0.008*\"ядро\" + 0.007*\"фотон\" + 0.006*\"отклонение\" + '\n",
      "  '0.006*\"теоретик\" + 0.006*\"теоретический\" + 0.006*\"стандартный_модель\"'),\n",
      " (8,\n",
      "  '0.017*\"геном\" + 0.011*\"днк\" + 0.011*\"мутация\" + 0.007*\"бактерия\" + '\n",
      "  '0.007*\"мозг\" + 0.007*\"экспрессия\" + 0.006*\"хромосома\" + 0.006*\"копия\" + '\n",
      "  '0.006*\"самец\" + 0.006*\"отбор\" + 0.006*\"особь\" + 0.006*\"ткань\" + '\n",
      "  '0.006*\"реакция\" + 0.005*\"генетический\" + 0.005*\"фермент\"'),\n",
      " (9,\n",
      "  '0.025*\"луна\" + 0.025*\"затмение\" + 0.024*\"звезда\" + 0.014*\"солнце\" + '\n",
      "  '0.013*\"планета\" + 0.013*\"телескоп\" + 0.012*\"аппарат\" + 0.012*\"фаза\" + '\n",
      "  '0.011*\"орбита\" + 0.011*\"галактика\" + 0.010*\"спутник\" + 0.010*\"астероид\" + '\n",
      "  '0.009*\"комета\" + 0.009*\"высота\" + 0.009*\"космический\"'),\n",
      " (10,\n",
      "  '0.013*\"геном\" + 0.013*\"эукариот\" + 0.011*\"позвоночный\" + '\n",
      "  '0.009*\"эволюционный\" + 0.009*\"предок\" + 0.008*\"ветвь\" + '\n",
      "  '0.008*\"общий_предок\" + 0.008*\"многоклеточный_животное\" + 0.008*\"губка\" + '\n",
      "  '0.006*\"растение\" + 0.006*\"личинка\" + 0.006*\"гребневик\" + '\n",
      "  '0.006*\"нервный_система\" + 0.006*\"hox-ген\" + 0.005*\"стадия\"'),\n",
      " (11,\n",
      "  '0.014*\"атом\" + 0.010*\"сверхпроводник\" + 0.010*\"сверхпроводимость\" + '\n",
      "  '0.010*\"электрон\" + 0.009*\"магнитный_поле\" + 0.008*\"сверхпроводящий\" + '\n",
      "  '0.008*\"графен\" + 0.007*\"поле\" + 0.007*\"соединение\" + 0.006*\"плёнка\" + '\n",
      "  '0.006*\"жидкость\" + 0.006*\"капля\" + 0.006*\"излучение\" + 0.005*\"металл\" + '\n",
      "  '0.005*\"вихрь\"')]\n"
     ]
    }
   ],
   "source": [
    "from pprint import pprint\n",
    "\n",
    "top_topics = at_model.top_topics(corpus)\n",
    "pprint(at_model.print_topics(num_words=15))"
   ]
  },
  {
   "cell_type": "markdown",
   "id": "de27119e-2c2b-4798-8f2c-0770a47cf104",
   "metadata": {},
   "source": [
    "### Evaluate topic coherence"
   ]
  },
  {
   "cell_type": "code",
   "execution_count": 25,
   "id": "a09ac8d1-9274-43d7-93af-c56694c1915b",
   "metadata": {},
   "outputs": [
    {
     "name": "stdout",
     "output_type": "stream",
     "text": [
      "Coherence score (c_v): 0.6516016930107807\n",
      "Coherence score (UMass): -1.6153015119372658\n"
     ]
    }
   ],
   "source": [
    "from gensim.models import CoherenceModel\n",
    "\n",
    "# Compute coherence score using CV\n",
    "coherence_c_v_model = CoherenceModel(model=at_model, texts=documents, \n",
    "                                     dictionary=dictionary, coherence='c_v')\n",
    "coherence_c_v = coherence_c_v_model.get_coherence()\n",
    "print(f'Coherence score (c_v): {coherence_c_v}') # 0.5 is good, 0.6 is excellent\n",
    "\n",
    "# Compute coherence score using UMass\n",
    "coherence_umass_model = CoherenceModel(model=at_model, texts=documents, \n",
    "                                       dictionary=dictionary, coherence=\"u_mass\")\n",
    "coherence_umass = coherence_umass_model.get_coherence()\n",
    "print(f'Coherence score (UMass): {coherence_umass}') # should be close to 0"
   ]
  },
  {
   "cell_type": "markdown",
   "id": "9f289082-870e-47d8-a7dc-d4c41fc8d82d",
   "metadata": {},
   "source": [
    "### Show topic distribution for each author"
   ]
  },
  {
   "cell_type": "code",
   "execution_count": 26,
   "id": "9a8d972d-99e1-4256-8da7-6d106a533cf9",
   "metadata": {
    "tags": []
   },
   "outputs": [],
   "source": [
    "topic_labels = ['Частицы', 'Лито- и гидросфера', 'Космос', 'Эксперимент',\n",
    "                'Рак', 'Животные', 'Размножение', 'Коллайдер', 'Геном',\n",
    "                'Затмение', 'Позвоночные', 'Сверхпроводники']"
   ]
  },
  {
   "cell_type": "code",
   "execution_count": 27,
   "id": "a141c16b-c55c-42fa-ad00-9ea762fb75cd",
   "metadata": {
    "tags": []
   },
   "outputs": [
    {
     "name": "stdout",
     "output_type": "stream",
     "text": [
      "\n",
      "Александр_Козловский\n",
      "Темы:\n",
      "[('Космос', 0.2105464150033727), ('Затмение', 0.7860777810833285)]\n",
      "\n",
      "Александр_Марков\n",
      "Темы:\n",
      "[('Лито- и гидросфера', 0.021053808383658088),\n",
      " ('Размножение', 0.8910183610685185),\n",
      " ('Геном', 0.03775617855735935),\n",
      " ('Позвоночные', 0.04521570680505765)]\n",
      "\n",
      "Александр_Сергеев\n",
      "Темы:\n",
      "[('Частицы', 0.05242328568065768),\n",
      " ('Лито- и гидросфера', 0.043854007186273414),\n",
      " ('Космос', 0.253814773866717),\n",
      " ('Эксперимент', 0.07280322701005486),\n",
      " ('Рак', 0.015894118862348604),\n",
      " ('Размножение', 0.014791212611308871),\n",
      " ('Геном', 0.05707530067872772),\n",
      " ('Затмение', 0.463159409602393),\n",
      " ('Сверхпроводники', 0.015712023986673037)]\n",
      "\n",
      "Алексей_Гиляров\n",
      "Темы:\n",
      "[('Животные', 0.9533332258713978), ('Размножение', 0.0443966662846007)]\n",
      "\n",
      "Алексей_Левин\n",
      "Темы:\n",
      "[('Космос', 0.6745995815064718),\n",
      " ('Эксперимент', 0.04212715409745493),\n",
      " ('Рак', 0.0973365954262154),\n",
      " ('Коллайдер', 0.13417923303503432),\n",
      " ('Сверхпроводники', 0.04390345208132961)]\n",
      "\n",
      "Алексей_Опаев\n",
      "Темы:\n",
      "[('Животные', 0.1773292731109675), ('Размножение', 0.805001182632978)]\n",
      "\n",
      "Аркадий_Курамшин\n",
      "Темы:\n",
      "[('Лито- и гидросфера', 0.01248811031804053),\n",
      " ('Космос', 0.03894849271618916),\n",
      " ('Эксперимент', 0.20563890511938246),\n",
      " ('Рак', 0.033823665507737126),\n",
      " ('Животные', 0.010676629498080263),\n",
      " ('Геном', 0.016589495039140797),\n",
      " ('Сверхпроводники', 0.6793083879665894)]\n",
      "\n",
      "Варвара_Веденина\n",
      "Темы:\n",
      "[('Эксперимент', 0.1803838526257351), ('Размножение', 0.8062281575834723)]\n",
      "\n",
      "Вера_Башмакова\n",
      "Темы:\n",
      "[('Эксперимент', 0.9027968747856382),\n",
      " ('Рак', 0.05466302848565059),\n",
      " ('Сверхпроводники', 0.037357830664379026)]\n",
      "\n",
      "Владислав_Стрекопытов\n",
      "Темы:\n",
      "[('Лито- и гидросфера', 0.9620887983254672), ('Затмение', 0.033022940259192814)]\n",
      "\n",
      "Вячеслав_Калинин\n",
      "Темы:\n",
      "[('Рак', 0.9984222464795998)]\n",
      "\n",
      "Елена_Наймарк\n",
      "Темы:\n",
      "[('Лито- и гидросфера', 0.07452315470742653),\n",
      " ('Эксперимент', 0.33257137424227723),\n",
      " ('Животные', 0.03636554234235689),\n",
      " ('Размножение', 0.48611039213404467),\n",
      " ('Позвоночные', 0.0609801931826625)]\n",
      "\n",
      "Игорь_Иванов\n",
      "Темы:\n",
      "[('Частицы', 0.3513141944122951),\n",
      " ('Коллайдер', 0.6131609131937942),\n",
      " ('Сверхпроводники', 0.03370735643260856)]\n",
      "\n",
      "Сергей_Ястребов\n",
      "Темы:\n",
      "[('Позвоночные', 0.9834034301339036)]\n",
      "\n",
      "Татьяна_Романовская\n",
      "Темы:\n",
      "[('Рак', 0.01395100762975211),\n",
      " ('Животные', 0.02425959178451047),\n",
      " ('Размножение', 0.0394997044656755),\n",
      " ('Геном', 0.9087517566040415)]\n",
      "\n",
      "Юлия_Кондратенко\n",
      "Темы:\n",
      "[('Эксперимент', 0.7757451168776035),\n",
      " ('Рак', 0.08820513563110752),\n",
      " ('Животные', 0.013686337990724278),\n",
      " ('Размножение', 0.07951171030129166),\n",
      " ('Геном', 0.037722782717875006)]\n",
      "\n",
      "Юрий_Ерин\n",
      "Темы:\n",
      "[('Коллайдер', 0.014372663792955941), ('Сверхпроводники', 0.9740602877817491)]\n"
     ]
    }
   ],
   "source": [
    "def show_author(name):\n",
    "    print('\\n%s' % name)\n",
    "    print('Темы:')\n",
    "    pprint([(topic_labels[topic[0]], topic[1]) for topic in at_model[name]])\n",
    "    \n",
    "\n",
    "for author in authors:\n",
    "    show_author(author)"
   ]
  },
  {
   "cell_type": "code",
   "execution_count": null,
   "id": "ffdd8e9d-9a9c-4a1e-acc9-67c93219250a",
   "metadata": {},
   "outputs": [],
   "source": []
  }
 ],
 "metadata": {
  "kernelspec": {
   "display_name": "Python 3",
   "language": "python",
   "name": "python3"
  },
  "language_info": {
   "codemirror_mode": {
    "name": "ipython",
    "version": 3
   },
   "file_extension": ".py",
   "mimetype": "text/x-python",
   "name": "python",
   "nbconvert_exporter": "python",
   "pygments_lexer": "ipython3",
   "version": "3.9.2"
  }
 },
 "nbformat": 4,
 "nbformat_minor": 5
}
